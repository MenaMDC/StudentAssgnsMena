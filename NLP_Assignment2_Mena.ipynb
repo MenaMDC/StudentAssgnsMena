{
  "nbformat": 4,
  "nbformat_minor": 0,
  "metadata": {
    "colab": {
      "provenance": []
    },
    "kernelspec": {
      "name": "python3",
      "display_name": "Python 3"
    },
    "language_info": {
      "name": "python"
    }
  },
  "cells": [
    {
      "cell_type": "markdown",
      "source": [
        "**Assignment 2**\n",
        "\n",
        "---\n",
        "\n",
        "\n",
        "Christopher Mena -\n",
        "CAI2300C"
      ],
      "metadata": {
        "id": "NCKx4qSvkkg8"
      }
    },
    {
      "cell_type": "code",
      "execution_count": null,
      "metadata": {
        "id": "Pxiku45U6Dtl"
      },
      "outputs": [],
      "source": [
        "# Step 1 & 2 - Setting Up the Environment\n",
        "\n",
        "!pip install gradio -qqq\n",
        "\n",
        "from openai import OpenAI\n",
        "from scipy.spatial import distance\n",
        "import numpy as np\n",
        "import gradio as gr\n",
        "import pandas as pd\n",
        "import os     # For github actions to hide my API key\n",
        "\n",
        "\n",
        "# Ini openAI with my API key\n",
        "api_key = os.getenv('SECRET_MENA_API_KEY')\n",
        "client = OpenAI(api_key=api_key)\n",
        "\n",
        "\n",
        "# Define the embedding function using the OpenAI client\n",
        "def create_embeddings(texts, model=\"text-embedding-3-small\"):\n",
        "    embeddings = []\n",
        "    for text in texts:\n",
        "        response = client.embeddings.create(\n",
        "            input=text,\n",
        "            model=model\n",
        "        )\n",
        "        embeddings.append(response.data[0].embedding)\n",
        "    return embeddings"
      ]
    },
    {
      "cell_type": "code",
      "source": [
        "# Step 3 - Data Preparation\n",
        "# Fictional dataset of game reviews for the game, \"Kingdom Come Deliverance\"\n",
        "\n",
        "game_reviews = [\n",
        "    \"Absolutely stunning historical accuracy. The combat is tough but rewarding!\",\n",
        "    \"A masterpiece of immersion. Feels like I'm really living in medieval Bohemia.\",\n",
        "    \"The combat is hard to learn but feels incredibly realistic once mastered.\",\n",
        "    \"The attention to detail in this game is insane. Every aspect feels authentic.\",\n",
        "    \"One of the best RPGs I've ever played. Deep story and great characters.\",\n",
        "    \"Frustrating at times, but that's what makes it feel so realistic!\",\n",
        "    \"Not for the casual gamer. The realism is both its greatest strength and weakness.\",\n",
        "    \"I love the world-building and the historical setting. Feels like a time machine!\",\n",
        "    \"The save system is annoying, but everything else about this game is fantastic.\",\n",
        "    \"Hardcore and unforgiving, but if you stick with it, it's an incredible experience.\",\n",
        "    \"Finally, an RPG that makes you feel like an actual person in a medieval world!\",\n",
        "    \"The game is a bit buggy, but the depth of the world makes up for it.\",\n",
        "    \"If you're looking for Skyrim, this ain't it. If you want realism, buy this now.\",\n",
        "    \"No magic, no dragons, just pure medieval life. I love it!\",\n",
        "    \"The combat system is a steep learning curve, but once you get it, it's amazing.\",\n",
        "    \"Realistic to a fault. Sometimes I just want to fast travel without penalties!\",\n",
        "    \"The roleplaying aspect is some of the best I've ever experienced in a game.\",\n",
        "    \"I was skeptical at first, but this game sucked me in completely.\",\n",
        "    \"If you love history and RPGs, you owe it to yourself to play this.\",\n",
        "    \"Not perfect, but the most immersive medieval RPG out there.\",\n",
        "    \"A buggy mess at times, but I can't stop playing it.\",\n",
        "    \"The lack of hand-holding is refreshing. Forces you to think and plan ahead.\",\n",
        "    \"The combat is brutal but fair. Every fight feels like a real duel.\",\n",
        "    \"The quest writing is fantastic. Every choice has weight.\",\n",
        "    \"One of the few RPGs where I actually cared about the protagonist's journey.\",\n",
        "    \"The archery mechanics are some of the best I've seen in a game.\",\n",
        "    \"The realism makes it frustrating at times, but I keep coming back to it.\",\n",
        "    \"Visually stunning, even years after release.\",\n",
        "    \"Some mechanics are clunky, but the overall experience is unforgettable.\",\n",
        "    \"An underrated gem. More people need to experience this game.\"\n",
        "]\n"
      ],
      "metadata": {
        "id": "aLz5_pf7pnmc"
      },
      "execution_count": null,
      "outputs": []
    },
    {
      "cell_type": "code",
      "source": [
        "# Embeddings for game reviews\n",
        "reviews = []\n",
        "embeddings = create_embeddings(game_reviews, model=\"text-embedding-3-small\")\n",
        "\n",
        "for review, embedding in zip(game_reviews, embeddings):\n",
        "    reviews.append({\"game review\": review, \"embedding\": embedding})"
      ],
      "metadata": {
        "id": "LyqgzIScpnyR"
      },
      "execution_count": null,
      "outputs": []
    },
    {
      "cell_type": "code",
      "source": [
        "# Step 4 - Implementing Semantic Search\n",
        "\n",
        "# Search query\n",
        "search_text = \"How is the combat?\"\n",
        "\n",
        "# Generate the embedding for the query\n",
        "search_embedding = create_embeddings([search_text])[0]\n",
        "\n",
        "# Calculate cosine distances between the query and complaints\n",
        "distances = []\n",
        "for review in reviews:\n",
        "    dist = distance.cosine(search_embedding, review[\"embedding\"])\n",
        "    distances.append(dist)\n",
        "\n",
        "# Find the closest complaint\n",
        "min_dist_ind = np.argmin(distances)\n",
        "closest_review = reviews[min_dist_ind]\n",
        "\n",
        "print(f\"Search Query: {search_text}\")\n",
        "print(f\"Closest Review: {closest_review['game review']}\")"
      ],
      "metadata": {
        "colab": {
          "base_uri": "https://localhost:8080/"
        },
        "id": "7sEglGWBpn56",
        "outputId": "6063ef4d-575f-4ff3-b008-c78e500e1bc3"
      },
      "execution_count": null,
      "outputs": [
        {
          "output_type": "stream",
          "name": "stdout",
          "text": [
            "Search Query: How is the combat?\n",
            "Closest Review: The combat is brutal but fair. Every fight feels like a real duel.\n"
          ]
        }
      ]
    },
    {
      "cell_type": "code",
      "source": [
        "#  Step 5:  Defining the Search function\n",
        "\n",
        "def find_similar_review(query):\n",
        "    search_embedding = create_embeddings([query])[0]\n",
        "    distances = [distance.cosine(search_embedding, c[\"embedding\"]) for c in reviews]\n",
        "    min_dist_ind = np.argmin(distances)\n",
        "    closest_review = reviews[min_dist_ind]\n",
        "    return f\"Query: {query}\\n\\nMost Similar Review: {closest_review['game review']}\"\n",
        "\n",
        "# Create the Gradio interface\n",
        "interface = gr.Interface(\n",
        "    fn=find_similar_review,\n",
        "    inputs=\"text\",\n",
        "    outputs=\"text\",\n",
        "    title=\"Semantic Search for Game Reviews\",\n",
        "    description=\"Enter a review query to find similar reviews in the database.\"\n",
        ")\n",
        "\n",
        "# Launch the app\n",
        "interface.launch()"
      ],
      "metadata": {
        "colab": {
          "base_uri": "https://localhost:8080/",
          "height": 646
        },
        "id": "UlTUP3xmpn8p",
        "outputId": "e130ae65-4607-4786-8212-48d645273585"
      },
      "execution_count": null,
      "outputs": [
        {
          "output_type": "stream",
          "name": "stdout",
          "text": [
            "Running Gradio in a Colab notebook requires sharing enabled. Automatically setting `share=True` (you can turn this off by setting `share=False` in `launch()` explicitly).\n",
            "\n",
            "Colab notebook detected. To show errors in colab notebook, set debug=True in launch()\n",
            "* Running on public URL: https://823b0e9d7d50f909bc.gradio.live\n",
            "\n",
            "This share link expires in 72 hours. For free permanent hosting and GPU upgrades, run `gradio deploy` from the terminal in the working directory to deploy to Hugging Face Spaces (https://huggingface.co/spaces)\n"
          ]
        },
        {
          "output_type": "display_data",
          "data": {
            "text/plain": [
              "<IPython.core.display.HTML object>"
            ],
            "text/html": [
              "<div><iframe src=\"https://823b0e9d7d50f909bc.gradio.live\" width=\"100%\" height=\"500\" allow=\"autoplay; camera; microphone; clipboard-read; clipboard-write;\" frameborder=\"0\" allowfullscreen></iframe></div>"
            ]
          },
          "metadata": {}
        },
        {
          "output_type": "execute_result",
          "data": {
            "text/plain": []
          },
          "metadata": {},
          "execution_count": 21
        }
      ]
    },
    {
      "cell_type": "markdown",
      "source": [
        "**ADDENDUM** - Enriched Data\n",
        "\n",
        "\n",
        "---\n",
        "\n",
        "\n",
        "\n",
        "Using our fictional custom dataset"
      ],
      "metadata": {
        "id": "jTEP4JoO0IXg"
      }
    },
    {
      "cell_type": "code",
      "source": [
        "# ADDENDUM : Enriched data + 10\n",
        "\n",
        "enriched_reviews = [\n",
        "    {\"Review\": \"Absolutely stunning historical accuracy. The combat is tough but rewarding!\",\n",
        "     \"Topic\": \"Historical Accuracy, Combat\",\n",
        "     \"Keywords\": [\"historical accuracy\", \"combat\", \"rewarding\"]},\n",
        "\n",
        "    {\"Review\": \"A masterpiece of immersion. Feels like I'm really living in medieval Bohemia.\",\n",
        "     \"Topic\": \"Immersion, World-building\",\n",
        "     \"Keywords\": [\"immersion\", \"medieval\", \"Bohemia\"]},\n",
        "\n",
        "    {\"Review\": \"The combat is hard to learn but feels incredibly realistic once mastered.\",\n",
        "     \"Topic\": \"Combat Difficulty, Realism\",\n",
        "     \"Keywords\": [\"combat\", \"realistic\", \"difficulty\"]},\n",
        "\n",
        "    {\"Review\": \"The attention to detail in this game is insane. Every aspect feels authentic.\",\n",
        "     \"Topic\": \"Detail, Authenticity\",\n",
        "     \"Keywords\": [\"detail\", \"authenticity\", \"medieval\"]},\n",
        "\n",
        "    {\"Review\": \"One of the best RPGs I've ever played. Deep story and great characters.\",\n",
        "     \"Topic\": \"RPG, Story, Characters\",\n",
        "     \"Keywords\": [\"RPG\", \"story\", \"characters\"]},\n",
        "\n",
        "    {\"Review\": \"Frustrating at times, but that's what makes it feel so realistic!\",\n",
        "     \"Topic\": \"Frustration, Realism\",\n",
        "     \"Keywords\": [\"frustration\", \"realistic\", \"immersion\"]},\n",
        "\n",
        "    {\"Review\": \"Not for the casual gamer. The realism is both its greatest strength and weakness.\",\n",
        "     \"Topic\": \"Realism, Difficulty\",\n",
        "     \"Keywords\": [\"realism\", \"casual\", \"difficulty\"]},\n",
        "\n",
        "    {\"Review\": \"I love the world-building and the historical setting. Feels like a time machine!\",\n",
        "     \"Topic\": \"World-building, History\",\n",
        "     \"Keywords\": [\"world-building\", \"history\", \"immersion\"]},\n",
        "\n",
        "    {\"Review\": \"The save system is annoying, but everything else about this game is fantastic.\",\n",
        "     \"Topic\": \"Save System, Gameplay\",\n",
        "     \"Keywords\": [\"save system\", \"annoying\", \"gameplay\"]},\n",
        "\n",
        "    {\"Review\": \"Hardcore and unforgiving, but if you stick with it, it's an incredible experience.\",\n",
        "     \"Topic\": \"Difficulty, Reward\",\n",
        "     \"Keywords\": [\"hardcore\", \"unforgiving\", \"rewarding\"]},\n",
        "\n",
        "    {\"Review\": \"Finally, an RPG that makes you feel like an actual person in a medieval world!\",\n",
        "     \"Topic\": \"Immersion, RPG\",\n",
        "     \"Keywords\": [\"RPG\", \"immersion\", \"medieval\"]},\n",
        "\n",
        "    {\"Review\": \"The game is a bit buggy, but the depth of the world makes up for it.\",\n",
        "     \"Topic\": \"Bugs, World Depth\",\n",
        "     \"Keywords\": [\"bugs\", \"depth\", \"world\"]},\n",
        "\n",
        "    {\"Review\": \"If you're looking for Skyrim, this ain't it. If you want realism, buy this now.\",\n",
        "     \"Topic\": \"Comparison, Realism\",\n",
        "     \"Keywords\": [\"Skyrim\", \"realism\", \"comparison\"]},\n",
        "\n",
        "    {\"Review\": \"No magic, no dragons, just pure medieval life. I love it!\",\n",
        "     \"Topic\": \"Realism, Medieval\",\n",
        "     \"Keywords\": [\"no magic\", \"realism\", \"medieval\"]},\n",
        "\n",
        "    {\"Review\": \"The combat system is a steep learning curve, but once you get it, it's amazing.\",\n",
        "     \"Topic\": \"Combat Difficulty, Reward\",\n",
        "     \"Keywords\": [\"combat\", \"learning curve\", \"rewarding\"]},\n",
        "\n",
        "    {\"Review\": \"Realistic to a fault. Sometimes I just want to fast travel without penalties!\",\n",
        "     \"Topic\": \"Realism, Fast Travel\",\n",
        "     \"Keywords\": [\"realistic\", \"fast travel\", \"penalties\"]},\n",
        "\n",
        "    {\"Review\": \"The roleplaying aspect is some of the best I've ever experienced in a game.\",\n",
        "     \"Topic\": \"Roleplaying, Gameplay\",\n",
        "     \"Keywords\": [\"roleplaying\", \"gameplay\", \"elements\"]},\n",
        "\n",
        "    {\"Review\": \"I was skeptical at first, but this game sucked me in completely.\",\n",
        "     \"Topic\": \"Skepticism, Immersion\",\n",
        "     \"Keywords\": [\"skeptical\", \"immersion\", \"game\"]},\n",
        "\n",
        "    {\"Review\": \"If you love history and RPGs, you owe it to yourself to play this.\",\n",
        "     \"Topic\": \"History, RPG\",\n",
        "     \"Keywords\": [\"history\", \"RPG\", \"must-play\"]},\n",
        "\n",
        "    {\"Review\": \"Not perfect, but the most immersive medieval RPG out there.\",\n",
        "     \"Topic\": \"Imperfections, Immersion\",\n",
        "     \"Keywords\": [\"imperfections\", \"immersion\", \"RPG\"]},\n",
        "\n",
        "    {\"Review\": \"A buggy mess at times, but I can't stop playing it.\",\n",
        "     \"Topic\": \"Bugs, Enjoyment\",\n",
        "     \"Keywords\": [\"bugs\", \"enjoyment\", \"game\"]},\n",
        "\n",
        "    {\"Review\": \"The lack of hand-holding is refreshing. Forces you to think and plan ahead.\",\n",
        "     \"Topic\": \"Difficulty, Strategy\",\n",
        "     \"Keywords\": [\"hand-holding\", \"strategy\", \"depth\"]},\n",
        "\n",
        "    {\"Review\": \"The combat is brutal but fair. Every fight feels like a real duel.\",\n",
        "     \"Topic\": \"Combat, Realism\",\n",
        "     \"Keywords\": [\"combat\", \"brutal\", \"duel\"]},\n",
        "\n",
        "    {\"Review\": \"The quest writing is fantastic. Every choice has weight.\",\n",
        "     \"Topic\": \"Writing, Quests\",\n",
        "     \"Keywords\": [\"writing\", \"quests\", \"choices\"]},\n",
        "\n",
        "    {\"Review\": \"One of the few RPGs where I actually cared about the protagonist's journey.\",\n",
        "     \"Topic\": \"Protagonist, Story\",\n",
        "     \"Keywords\": [\"protagonist\", \"journey\", \"story\"]},\n",
        "\n",
        "    {\"Review\": \"The archery mechanics are some of the best I've seen in a game.\",\n",
        "     \"Topic\": \"Combat, Archery\",\n",
        "     \"Keywords\": [\"archery\", \"mechanics\", \"combat\"]},\n",
        "\n",
        "    {\"Review\": \"The realism makes it frustrating at times, but I keep coming back to it.\",\n",
        "     \"Topic\": \"Realism, Frustration\",\n",
        "     \"Keywords\": [\"realism\", \"frustration\", \"play\"]},\n",
        "\n",
        "    {\"Review\": \"Visually stunning, even years after release.\",\n",
        "     \"Topic\": \"Graphics, Visuals\",\n",
        "     \"Keywords\": [\"visually stunning\", \"graphics\", \"release\"]},\n",
        "\n",
        "    {\"Review\": \"Some mechanics are clunky, but the overall experience is unforgettable.\",\n",
        "     \"Topic\": \"Mechanics, Experience\",\n",
        "     \"Keywords\": [\"clunky\", \"experience\", \"gameplay\"]},\n",
        "\n",
        "    {\"Review\": \"An underrated gem. More people need to experience this game.\",\n",
        "     \"Topic\": \"Underrated, RPG\",\n",
        "     \"Keywords\": [\"underrated\", \"gem\", \"RPG\"]},\n",
        "\n",
        "    {\"Review\": \"The game world feels alive with NPCs going about their daily routines.\",\n",
        "     \"Topic\": \"World-building, NPCs\",\n",
        "     \"Keywords\": [\"NPCs\", \"world-building\", \"dynamic\"]},\n",
        "\n",
        "    {\"Review\": \"I wish there were more customization options for character appearance.\",\n",
        "     \"Topic\": \"Customization\",\n",
        "     \"Keywords\": [\"customization\", \"appearance\", \"character\"]},\n",
        "\n",
        "    {\"Review\": \"Combat could use more variety in weapons, but it's still satisfying.\",\n",
        "     \"Topic\": \"Combat, Weapons\",\n",
        "     \"Keywords\": [\"combat\", \"weapons\", \"variety\"]},\n",
        "\n",
        "    {\"Review\": \"The soundtrack is incredible. It sets the perfect tone for every scene.\",\n",
        "     \"Topic\": \"Soundtrack, Atmosphere\",\n",
        "     \"Keywords\": [\"soundtrack\", \"atmosphere\", \"tone\"]},\n",
        "\n",
        "    {\"Review\": \"Sometimes the AI feels a bit too predictable, but the game is still challenging.\",\n",
        "     \"Topic\": \"AI, Difficulty\",\n",
        "     \"Keywords\": [\"AI\", \"predictable\", \"challenge\"]},\n",
        "\n",
        "    {\"Review\": \"The side quests are interesting, but they can feel repetitive at times.\",\n",
        "     \"Topic\": \"Side Quests, Repetition\",\n",
        "     \"Keywords\": [\"side quests\", \"repetitive\", \"variety\"]},\n",
        "\n",
        "    {\"Review\": \"The game has a steep learning curve, but once you get into it, it's a lot of fun.\",\n",
        "     \"Topic\": \"Learning Curve, Reward\",\n",
        "     \"Keywords\": [\"learning curve\", \"rewarding\", \"fun\"]},\n",
        "\n",
        "    {\"Review\": \"It’s the best RPG I’ve played in years. So immersive and rich with detail.\",\n",
        "     \"Topic\": \"RPG, Immersion\",\n",
        "     \"Keywords\": [\"RPG\", \"detail\", \"immersion\"]},\n",
        "\n",
        "    {\"Review\": \"I really appreciate the lack of hand-holding in this game.\",\n",
        "     \"Topic\": \"Difficulty, Challenge\",\n",
        "     \"Keywords\": [\"hand-holding\", \"difficulty\", \"challenge\"]},\n",
        "\n",
        "    {\"Review\": \"The pacing can be slow at times, but it’s worth sticking with it.\",\n",
        "     \"Topic\": \"Pacing, Patience\",\n",
        "     \"Keywords\": [\"pacing\", \"slow\", \"rewarding\"]}\n",
        "]\n"
      ],
      "metadata": {
        "id": "lYsANe5tpn_c"
      },
      "execution_count": null,
      "outputs": []
    },
    {
      "cell_type": "code",
      "source": [
        "# Embedding creation\n",
        "\n",
        "for Review in enriched_reviews:\n",
        "    embedding = create_embeddings([Review[\"Review\"]], model=\"text-embedding-3-small\")[0]\n",
        "    Review[\"embedding\"] = embedding"
      ],
      "metadata": {
        "id": "OGSjYJBj1eSa"
      },
      "execution_count": null,
      "outputs": []
    },
    {
      "cell_type": "code",
      "source": [
        "# Search text (game review query)\n",
        "search_text = \"What is the game's difficulty?\"\n",
        "search_embedding = create_embeddings([search_text])[0]\n",
        "\n",
        "# Calculate cosine distances\n",
        "distances = []\n",
        "for Review in enriched_reviews:\n",
        "    dist = distance.cosine(search_embedding, Review[\"embedding\"])\n",
        "    distances.append(dist)\n",
        "\n",
        "# Find the game review with the smallest distance\n",
        "min_dist_ind = np.argmin(distances)\n",
        "closest_review = enriched_reviews[min_dist_ind]\n",
        "\n",
        "print(f\"Search query:\", search_text)\n",
        "print(f\"Closest Game Review: {closest_review['Review']}\")\n",
        "print(f\"Topic: {closest_review['Topic']}\")\n",
        "print(f\"Keywords: {', '.join(closest_review['Keywords'])}\")"
      ],
      "metadata": {
        "colab": {
          "base_uri": "https://localhost:8080/"
        },
        "id": "_3XsULz_poCD",
        "outputId": "b8c7d59d-634f-4a74-d1b1-f779216054ef"
      },
      "execution_count": null,
      "outputs": [
        {
          "output_type": "stream",
          "name": "stdout",
          "text": [
            "Search query: What is the game's difficulty?\n",
            "Closest Game Review: The game has a steep learning curve, but once you get into it, it's a lot of fun.\n",
            "Topic: Learning Curve, Reward\n",
            "Keywords: learning curve, rewarding, fun\n"
          ]
        }
      ]
    },
    {
      "cell_type": "code",
      "source": [
        "# Implementing Gradio UI\n",
        "\n",
        "# Define the Gradio search function\n",
        "def find_similar_review(query):\n",
        "    search_embedding = create_embeddings([query])[0]\n",
        "    distances = [distance.cosine(search_embedding, r[\"embedding\"]) for r in enriched_reviews]\n",
        "    min_dist_ind = np.argmin(distances)\n",
        "    closest_review = enriched_reviews[min_dist_ind]\n",
        "    return (\n",
        "        f\"Query: {query}\\n\\n\"\n",
        "        f\"Closest Game Review: {closest_review['Review']}\\n\\n\"\n",
        "        f\"Topic: {closest_review['Topic']}\\n\"\n",
        "        f\"Keywords: {', '.join(closest_review['Keywords'])}\"\n",
        "    )\n",
        "\n",
        "# Create the Gradio interface\n",
        "interface = gr.Interface(\n",
        "    fn=find_similar_review,\n",
        "    inputs=\"text\",\n",
        "    outputs=\"text\",\n",
        "    title=\"Semantic Search for Game Reviews\",\n",
        "    description=\"Enter a review query to find the most relevant game review.\"\n",
        ")\n",
        "\n",
        "# Launch the app\n",
        "interface.launch()"
      ],
      "metadata": {
        "colab": {
          "base_uri": "https://localhost:8080/",
          "height": 646
        },
        "id": "a9-wVJbWpoEp",
        "outputId": "bec8325d-e5aa-467f-d614-743b09de196a"
      },
      "execution_count": null,
      "outputs": [
        {
          "output_type": "stream",
          "name": "stdout",
          "text": [
            "Running Gradio in a Colab notebook requires sharing enabled. Automatically setting `share=True` (you can turn this off by setting `share=False` in `launch()` explicitly).\n",
            "\n",
            "Colab notebook detected. To show errors in colab notebook, set debug=True in launch()\n",
            "* Running on public URL: https://bc9a1b83911574edf0.gradio.live\n",
            "\n",
            "This share link expires in 72 hours. For free permanent hosting and GPU upgrades, run `gradio deploy` from the terminal in the working directory to deploy to Hugging Face Spaces (https://huggingface.co/spaces)\n"
          ]
        },
        {
          "output_type": "display_data",
          "data": {
            "text/plain": [
              "<IPython.core.display.HTML object>"
            ],
            "text/html": [
              "<div><iframe src=\"https://bc9a1b83911574edf0.gradio.live\" width=\"100%\" height=\"500\" allow=\"autoplay; camera; microphone; clipboard-read; clipboard-write;\" frameborder=\"0\" allowfullscreen></iframe></div>"
            ]
          },
          "metadata": {}
        },
        {
          "output_type": "execute_result",
          "data": {
            "text/plain": []
          },
          "metadata": {},
          "execution_count": 31
        }
      ]
    },
    {
      "cell_type": "markdown",
      "source": [
        "\n",
        "  For this assignment, I chose a dataset of video game reviews.  Customers can query reviews to answer questions about a particular video game.  In this case, Kingdom Come Deliverance, an open world western RPG similar to Skyrim, Fallout, etc, but in medieval times.  I selected this dataset because I try to play a little bit of video games when I have a little free time, as a way to have some relaxing fun.  Chess, RPGs, simulation, management, turn based tactics.  I thought this would fit nicely for me, while I learn and practice.\n",
        "\tFor the methodology, I followed the template provided – creating embeddings, enriching the data, etc.  We calculated cosine distances to identify the closest review based on the minimum distance.  \n",
        "\n",
        "Example queries :\n",
        "- #1 - Query: What is the difficulty like?\n",
        "Closest Game Review: Hardcore and unforgiving, but if you stick with it, it's an incredible experience.<br>\n",
        "Topic: Difficulty, Reward<br>\n",
        "Keywords: hardcore, unforgiving, rewarding\n",
        "\n",
        "- #2 - Query: How is the combat?\n",
        "Closest Game Review: The combat is brutal but fair. Every fight feels like a real duel.<br>\n",
        "Topic: Combat, Realism<br>\n",
        "Keywords: combat, brutal, duel\n",
        "\n",
        "The semantic search engine using OpenAI seems to work just fine, understanding the context. Enriching the data seems to have helped tremendously between the basic semantic search dataset and the enriched data.\n",
        "\n",
        "Thank you\n"
      ],
      "metadata": {
        "id": "2I2nk4N_g5J2"
      }
    }
  ]
}